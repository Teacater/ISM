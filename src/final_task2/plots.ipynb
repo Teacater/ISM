{
 "cells": [
  {
   "cell_type": "code",
   "execution_count": 2,
   "id": "initial_id",
   "metadata": {
    "ExecuteTime": {
     "start_time": "2023-12-14T20:36:51.498435300Z"
    },
    "is_executing": true
   },
   "outputs": [
    {
     "data": {
      "application/vnd.jupyter.widget-view+json": {
       "model_id": "b4be38174af94d5791977d2652b81120",
       "version_major": 2,
       "version_minor": 0
      },
      "text/plain": [
       "interactive(children=(FloatSlider(value=0.5, description='alpha', max=1.0, step=0.01), Output()), _dom_classes…"
      ]
     },
     "metadata": {},
     "output_type": "display_data"
    }
   ],
   "source": [
    "import numpy as np\n",
    "from ipywidgets import interact, fixed, FloatSlider\n",
    "from matplotlib import pyplot as plt\n",
    "from scipy.interpolate import griddata\n",
    "\n",
    "from src.final_task2.show_graph_1 import generate_points\n",
    "from src.final_task2.task1 import compute_figure_4_data\n",
    "from src.final_task2.task3 import compute_figure_mass, ro, calculate_toughness\n",
    "\n",
    "\n",
    "def create_contour_plot(x, y, result_values, title):\n",
    "    Z = np.array(result_values)\n",
    "    xi = np.linspace(min(x), max(x), 100)\n",
    "    yi = np.linspace(min(y), max(y), 100)\n",
    "    Xi, Yi = np.meshgrid(xi, yi)\n",
    "    Zi = griddata((x, y), Z, (Xi, Yi), method='linear')\n",
    "    plt.contourf(Xi, Yi, Zi, levels=14, cmap=\"RdBu_r\")\n",
    "    plt.colorbar()\n",
    "    plt.xlabel('Parameter 1')\n",
    "    plt.ylabel('Parameter 2')\n",
    "    plt.title(title)\n",
    "    plt.show()\n",
    "\n",
    "def create_combined_contour_plot(x, y, J_values, K_values, alpha, title):\n",
    "    Z_J = np.array(J_values)\n",
    "    Z_K = np.array(K_values)\n",
    "    combined_Z = alpha * Z_J + (1 - alpha) * Z_K\n",
    "\n",
    "    xi = np.linspace(min(x), max(x), 100)\n",
    "    yi = np.linspace(min(y), max(y), 100)\n",
    "    Xi, Yi = np.meshgrid(xi, yi)\n",
    "    Zi = griddata((x, y), combined_Z, (Xi, Yi), method='linear')\n",
    "\n",
    "    plt.contourf(Xi, Yi, Zi, levels=14, cmap=\"RdBu_r\")\n",
    "    plt.colorbar()\n",
    "    plt.xlabel('Parameter 1')\n",
    "    plt.ylabel('Parameter 2')\n",
    "    plt.title(f\"{title} (alpha={alpha:.2f})\")\n",
    "    plt.show()\n",
    "\n",
    "\n",
    "\n",
    "if __name__ == '__main__':\n",
    "    w_r_pairs = generate_points(10, 10)\n",
    "    mass_values = []\n",
    "    strength_values = []\n",
    "    x, y = zip(*w_r_pairs)\n",
    "    x, y = list(x), list(y)\n",
    "    for w, r in w_r_pairs:\n",
    "        nodes, triangles = compute_figure_4_data(w, r)\n",
    "        mass = compute_figure_mass(nodes, triangles, ro)\n",
    "        strength = calculate_toughness(nodes, triangles)\n",
    "        mass_values.append(mass)\n",
    "        strength_values.append(strength)\n",
    "    #create_contour_plot(x, y, mass_values, \"Contour plot of mass\")\n",
    "    #create_contour_plot(x, y, strength_values, \"Contour plot of mass\")\n",
    "    #plt.figure()\n",
    "    #plt.scatter(mass_values, strength_values)\n",
    "    #plt.title(\"Scatter Plot on Criteria Plane\")\n",
    "    #plt.xlabel(\"Mass\")\n",
    "    #plt.ylabel(\"Strength Criterion\")\n",
    "    #plt.show()\n",
    "    interact(create_combined_contour_plot,\n",
    "             x=fixed(x),\n",
    "             y=fixed(y),\n",
    "             J_values=fixed(mass_values),\n",
    "             K_values=fixed(strength_values),\n",
    "             alpha=FloatSlider(min=0, max=1, step=0.01, value=0.5),\n",
    "             title=fixed('Combined Contour Plot'))\n",
    "    plt.show()\n",
    "\n"
   ]
  },
  {
   "cell_type": "code",
   "execution_count": null,
   "id": "861f19239c0e4420",
   "metadata": {
    "collapsed": false,
    "jupyter": {
     "outputs_hidden": false
    }
   },
   "outputs": [],
   "source": []
  }
 ],
 "metadata": {
  "kernelspec": {
   "display_name": "Python 3 (ipykernel)",
   "language": "python",
   "name": "python3"
  },
  "language_info": {
   "codemirror_mode": {
    "name": "ipython",
    "version": 3
   },
   "file_extension": ".py",
   "mimetype": "text/x-python",
   "name": "python",
   "nbconvert_exporter": "python",
   "pygments_lexer": "ipython3",
   "version": "3.9.2"
  }
 },
 "nbformat": 4,
 "nbformat_minor": 5
}
